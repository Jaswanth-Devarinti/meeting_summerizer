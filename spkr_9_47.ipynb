{
  "nbformat": 4,
  "nbformat_minor": 0,
  "metadata": {
    "colab": {
      "name": "spkr-9:47.ipynb",
      "provenance": [],
      "collapsed_sections": []
    },
    "kernelspec": {
      "name": "python3",
      "display_name": "Python 3"
    },
    "language_info": {
      "name": "python"
    }
  },
  "cells": [
    {
      "cell_type": "code",
      "metadata": {
        "id": "O1MlXjQhBJNc",
        "colab": {
          "base_uri": "https://localhost:8080/"
        },
        "outputId": "10ce736d-0e4a-48d7-b020-a02b2c90a68e"
      },
      "source": [
        "#!git clone https://github.com/plamenduchev/Speaker_Diarization.git"
      ],
      "execution_count": null,
      "outputs": [
        {
          "output_type": "stream",
          "text": [
            "Cloning into 'Speaker_Diarization'...\n",
            "remote: Enumerating objects: 63, done.\u001b[K\n",
            "remote: Total 63 (delta 0), reused 0 (delta 0), pack-reused 63\u001b[K\n",
            "Unpacking objects: 100% (63/63), done.\n"
          ],
          "name": "stdout"
        }
      ]
    },
    {
      "cell_type": "code",
      "metadata": {
        "colab": {
          "base_uri": "https://localhost:8080/"
        },
        "id": "joNFCMC0jDgn",
        "outputId": "4bf359d0-e242-4425-f4fd-d98bbb98a475"
      },
      "source": [
        "!ls"
      ],
      "execution_count": 35,
      "outputs": [
        {
          "output_type": "stream",
          "text": [
            "shell-init: error retrieving current directory: getcwd: cannot access parent directories: No such file or directory\n"
          ],
          "name": "stdout"
        }
      ]
    },
    {
      "cell_type": "code",
      "metadata": {
        "colab": {
          "base_uri": "https://localhost:8080/"
        },
        "id": "E0wUg-S9UTdI",
        "outputId": "d20e57fe-610a-4f98-9edd-625079d43cbe"
      },
      "source": [
        "cd drive/MyDrive/Project/Speaker_Diarization/"
      ],
      "execution_count": 1,
      "outputs": [
        {
          "output_type": "stream",
          "text": [
            "/content/drive/MyDrive/Project/Speaker_Diarization\n"
          ],
          "name": "stdout"
        }
      ]
    },
    {
      "cell_type": "code",
      "metadata": {
        "id": "LPbDQEJjUtcU",
        "colab": {
          "base_uri": "https://localhost:8080/"
        },
        "outputId": "96656c42-9627-48be-c399-5bef9ecb34ef"
      },
      "source": [
        "!pip install -r requirements.txt"
      ],
      "execution_count": 2,
      "outputs": [
        {
          "output_type": "stream",
          "text": [
            "Requirement already satisfied: numpy>=1.15.1 in /usr/local/lib/python3.7/dist-packages (from -r requirements.txt (line 1)) (1.19.5)\n",
            "Requirement already satisfied: scipy>=1.1.0 in /usr/local/lib/python3.7/dist-packages (from -r requirements.txt (line 2)) (1.4.1)\n",
            "Requirement already satisfied: torch>=0.4.0 in /usr/local/lib/python3.7/dist-packages (from -r requirements.txt (line 3)) (1.8.1+cu101)\n",
            "Requirement already satisfied: keras>=2.2.4 in /usr/local/lib/python3.7/dist-packages (from -r requirements.txt (line 4)) (2.4.3)\n",
            "Requirement already satisfied: tensorflow>=1.8.0 in /usr/local/lib/python3.7/dist-packages (from -r requirements.txt (line 5)) (2.5.0)\n",
            "Requirement already satisfied: typing-extensions in /usr/local/lib/python3.7/dist-packages (from torch>=0.4.0->-r requirements.txt (line 3)) (3.7.4.3)\n",
            "Requirement already satisfied: pyyaml in /usr/local/lib/python3.7/dist-packages (from keras>=2.2.4->-r requirements.txt (line 4)) (3.13)\n",
            "Requirement already satisfied: h5py in /usr/local/lib/python3.7/dist-packages (from keras>=2.2.4->-r requirements.txt (line 4)) (3.1.0)\n",
            "Requirement already satisfied: opt-einsum~=3.3.0 in /usr/local/lib/python3.7/dist-packages (from tensorflow>=1.8.0->-r requirements.txt (line 5)) (3.3.0)\n",
            "Requirement already satisfied: astunparse~=1.6.3 in /usr/local/lib/python3.7/dist-packages (from tensorflow>=1.8.0->-r requirements.txt (line 5)) (1.6.3)\n",
            "Requirement already satisfied: absl-py~=0.10 in /usr/local/lib/python3.7/dist-packages (from tensorflow>=1.8.0->-r requirements.txt (line 5)) (0.12.0)\n",
            "Requirement already satisfied: tensorboard~=2.5 in /usr/local/lib/python3.7/dist-packages (from tensorflow>=1.8.0->-r requirements.txt (line 5)) (2.5.0)\n",
            "Requirement already satisfied: six~=1.15.0 in /usr/local/lib/python3.7/dist-packages (from tensorflow>=1.8.0->-r requirements.txt (line 5)) (1.15.0)\n",
            "Requirement already satisfied: flatbuffers~=1.12.0 in /usr/local/lib/python3.7/dist-packages (from tensorflow>=1.8.0->-r requirements.txt (line 5)) (1.12)\n",
            "Requirement already satisfied: gast==0.4.0 in /usr/local/lib/python3.7/dist-packages (from tensorflow>=1.8.0->-r requirements.txt (line 5)) (0.4.0)\n",
            "Requirement already satisfied: tensorflow-estimator<2.6.0,>=2.5.0rc0 in /usr/local/lib/python3.7/dist-packages (from tensorflow>=1.8.0->-r requirements.txt (line 5)) (2.5.0)\n",
            "Requirement already satisfied: wrapt~=1.12.1 in /usr/local/lib/python3.7/dist-packages (from tensorflow>=1.8.0->-r requirements.txt (line 5)) (1.12.1)\n",
            "Requirement already satisfied: wheel~=0.35 in /usr/local/lib/python3.7/dist-packages (from tensorflow>=1.8.0->-r requirements.txt (line 5)) (0.36.2)\n",
            "Requirement already satisfied: keras-preprocessing~=1.1.2 in /usr/local/lib/python3.7/dist-packages (from tensorflow>=1.8.0->-r requirements.txt (line 5)) (1.1.2)\n",
            "Requirement already satisfied: grpcio~=1.34.0 in /usr/local/lib/python3.7/dist-packages (from tensorflow>=1.8.0->-r requirements.txt (line 5)) (1.34.1)\n",
            "Requirement already satisfied: google-pasta~=0.2 in /usr/local/lib/python3.7/dist-packages (from tensorflow>=1.8.0->-r requirements.txt (line 5)) (0.2.0)\n",
            "Requirement already satisfied: termcolor~=1.1.0 in /usr/local/lib/python3.7/dist-packages (from tensorflow>=1.8.0->-r requirements.txt (line 5)) (1.1.0)\n",
            "Requirement already satisfied: keras-nightly~=2.5.0.dev in /usr/local/lib/python3.7/dist-packages (from tensorflow>=1.8.0->-r requirements.txt (line 5)) (2.5.0.dev2021032900)\n",
            "Requirement already satisfied: protobuf>=3.9.2 in /usr/local/lib/python3.7/dist-packages (from tensorflow>=1.8.0->-r requirements.txt (line 5)) (3.12.4)\n",
            "Requirement already satisfied: cached-property; python_version < \"3.8\" in /usr/local/lib/python3.7/dist-packages (from h5py->keras>=2.2.4->-r requirements.txt (line 4)) (1.5.2)\n",
            "Requirement already satisfied: tensorboard-data-server<0.7.0,>=0.6.0 in /usr/local/lib/python3.7/dist-packages (from tensorboard~=2.5->tensorflow>=1.8.0->-r requirements.txt (line 5)) (0.6.1)\n",
            "Requirement already satisfied: google-auth<2,>=1.6.3 in /usr/local/lib/python3.7/dist-packages (from tensorboard~=2.5->tensorflow>=1.8.0->-r requirements.txt (line 5)) (1.30.0)\n",
            "Requirement already satisfied: requests<3,>=2.21.0 in /usr/local/lib/python3.7/dist-packages (from tensorboard~=2.5->tensorflow>=1.8.0->-r requirements.txt (line 5)) (2.23.0)\n",
            "Requirement already satisfied: setuptools>=41.0.0 in /usr/local/lib/python3.7/dist-packages (from tensorboard~=2.5->tensorflow>=1.8.0->-r requirements.txt (line 5)) (56.1.0)\n",
            "Requirement already satisfied: werkzeug>=0.11.15 in /usr/local/lib/python3.7/dist-packages (from tensorboard~=2.5->tensorflow>=1.8.0->-r requirements.txt (line 5)) (1.0.1)\n",
            "Requirement already satisfied: markdown>=2.6.8 in /usr/local/lib/python3.7/dist-packages (from tensorboard~=2.5->tensorflow>=1.8.0->-r requirements.txt (line 5)) (3.3.4)\n",
            "Requirement already satisfied: tensorboard-plugin-wit>=1.6.0 in /usr/local/lib/python3.7/dist-packages (from tensorboard~=2.5->tensorflow>=1.8.0->-r requirements.txt (line 5)) (1.8.0)\n",
            "Requirement already satisfied: google-auth-oauthlib<0.5,>=0.4.1 in /usr/local/lib/python3.7/dist-packages (from tensorboard~=2.5->tensorflow>=1.8.0->-r requirements.txt (line 5)) (0.4.4)\n",
            "Requirement already satisfied: rsa<5,>=3.1.4; python_version >= \"3.6\" in /usr/local/lib/python3.7/dist-packages (from google-auth<2,>=1.6.3->tensorboard~=2.5->tensorflow>=1.8.0->-r requirements.txt (line 5)) (4.7.2)\n",
            "Requirement already satisfied: cachetools<5.0,>=2.0.0 in /usr/local/lib/python3.7/dist-packages (from google-auth<2,>=1.6.3->tensorboard~=2.5->tensorflow>=1.8.0->-r requirements.txt (line 5)) (4.2.2)\n",
            "Requirement already satisfied: pyasn1-modules>=0.2.1 in /usr/local/lib/python3.7/dist-packages (from google-auth<2,>=1.6.3->tensorboard~=2.5->tensorflow>=1.8.0->-r requirements.txt (line 5)) (0.2.8)\n",
            "Requirement already satisfied: idna<3,>=2.5 in /usr/local/lib/python3.7/dist-packages (from requests<3,>=2.21.0->tensorboard~=2.5->tensorflow>=1.8.0->-r requirements.txt (line 5)) (2.10)\n",
            "Requirement already satisfied: certifi>=2017.4.17 in /usr/local/lib/python3.7/dist-packages (from requests<3,>=2.21.0->tensorboard~=2.5->tensorflow>=1.8.0->-r requirements.txt (line 5)) (2020.12.5)\n",
            "Requirement already satisfied: urllib3!=1.25.0,!=1.25.1,<1.26,>=1.21.1 in /usr/local/lib/python3.7/dist-packages (from requests<3,>=2.21.0->tensorboard~=2.5->tensorflow>=1.8.0->-r requirements.txt (line 5)) (1.24.3)\n",
            "Requirement already satisfied: chardet<4,>=3.0.2 in /usr/local/lib/python3.7/dist-packages (from requests<3,>=2.21.0->tensorboard~=2.5->tensorflow>=1.8.0->-r requirements.txt (line 5)) (3.0.4)\n",
            "Requirement already satisfied: importlib-metadata; python_version < \"3.8\" in /usr/local/lib/python3.7/dist-packages (from markdown>=2.6.8->tensorboard~=2.5->tensorflow>=1.8.0->-r requirements.txt (line 5)) (4.0.1)\n",
            "Requirement already satisfied: requests-oauthlib>=0.7.0 in /usr/local/lib/python3.7/dist-packages (from google-auth-oauthlib<0.5,>=0.4.1->tensorboard~=2.5->tensorflow>=1.8.0->-r requirements.txt (line 5)) (1.3.0)\n",
            "Requirement already satisfied: pyasn1>=0.1.3 in /usr/local/lib/python3.7/dist-packages (from rsa<5,>=3.1.4; python_version >= \"3.6\"->google-auth<2,>=1.6.3->tensorboard~=2.5->tensorflow>=1.8.0->-r requirements.txt (line 5)) (0.4.8)\n",
            "Requirement already satisfied: zipp>=0.5 in /usr/local/lib/python3.7/dist-packages (from importlib-metadata; python_version < \"3.8\"->markdown>=2.6.8->tensorboard~=2.5->tensorflow>=1.8.0->-r requirements.txt (line 5)) (3.4.1)\n",
            "Requirement already satisfied: oauthlib>=3.0.0 in /usr/local/lib/python3.7/dist-packages (from requests-oauthlib>=0.7.0->google-auth-oauthlib<0.5,>=0.4.1->tensorboard~=2.5->tensorflow>=1.8.0->-r requirements.txt (line 5)) (3.1.0)\n"
          ],
          "name": "stdout"
        }
      ]
    },
    {
      "cell_type": "code",
      "metadata": {
        "id": "G_1QbPkcVMN5"
      },
      "source": [
        "#!export MPLBACKEND=TKAgg"
      ],
      "execution_count": null,
      "outputs": []
    },
    {
      "cell_type": "code",
      "metadata": {
        "colab": {
          "base_uri": "https://localhost:8080/",
          "height": 35
        },
        "id": "1C7kQ0vJjR92",
        "outputId": "9036d3d8-9b76-49d7-ebf0-59d96a1b9fd1"
      },
      "source": [
        "import tensorflow as tf\n",
        "tf.__version__"
      ],
      "execution_count": 3,
      "outputs": [
        {
          "output_type": "execute_result",
          "data": {
            "application/vnd.google.colaboratory.intrinsic+json": {
              "type": "string"
            },
            "text/plain": [
              "'2.5.0'"
            ]
          },
          "metadata": {
            "tags": []
          },
          "execution_count": 3
        }
      ]
    },
    {
      "cell_type": "code",
      "metadata": {
        "colab": {
          "base_uri": "https://localhost:8080/"
        },
        "id": "E1VKLdegVuF7",
        "outputId": "3e4b8195-de5d-4457-ec9d-c6f0e5436fff"
      },
      "source": [
        "!apt install libasound2-dev portaudio19-dev libportaudio2 libportaudiocpp0 ffmpeg\n",
        "\n",
        "!pip install PyAudio\n",
        "\n"
      ],
      "execution_count": 4,
      "outputs": [
        {
          "output_type": "stream",
          "text": [
            "Reading package lists... Done\n",
            "Building dependency tree       \n",
            "Reading state information... Done\n",
            "libasound2-dev is already the newest version (1.1.3-5ubuntu0.5).\n",
            "ffmpeg is already the newest version (7:3.4.8-0ubuntu0.2).\n",
            "The following package was automatically installed and is no longer required:\n",
            "  libnvidia-common-460\n",
            "Use 'apt autoremove' to remove it.\n",
            "Suggested packages:\n",
            "  portaudio19-doc\n",
            "The following NEW packages will be installed:\n",
            "  libportaudio2 libportaudiocpp0 portaudio19-dev\n",
            "0 upgraded, 3 newly installed, 0 to remove and 34 not upgraded.\n",
            "Need to get 184 kB of archives.\n",
            "After this operation, 891 kB of additional disk space will be used.\n",
            "Get:1 http://archive.ubuntu.com/ubuntu bionic/universe amd64 libportaudio2 amd64 19.6.0-1 [64.6 kB]\n",
            "Get:2 http://archive.ubuntu.com/ubuntu bionic/universe amd64 libportaudiocpp0 amd64 19.6.0-1 [15.1 kB]\n",
            "Get:3 http://archive.ubuntu.com/ubuntu bionic/universe amd64 portaudio19-dev amd64 19.6.0-1 [104 kB]\n",
            "Fetched 184 kB in 0s (2,110 kB/s)\n",
            "Selecting previously unselected package libportaudio2:amd64.\n",
            "(Reading database ... 160706 files and directories currently installed.)\n",
            "Preparing to unpack .../libportaudio2_19.6.0-1_amd64.deb ...\n",
            "Unpacking libportaudio2:amd64 (19.6.0-1) ...\n",
            "Selecting previously unselected package libportaudiocpp0:amd64.\n",
            "Preparing to unpack .../libportaudiocpp0_19.6.0-1_amd64.deb ...\n",
            "Unpacking libportaudiocpp0:amd64 (19.6.0-1) ...\n",
            "Selecting previously unselected package portaudio19-dev:amd64.\n",
            "Preparing to unpack .../portaudio19-dev_19.6.0-1_amd64.deb ...\n",
            "Unpacking portaudio19-dev:amd64 (19.6.0-1) ...\n",
            "Setting up libportaudio2:amd64 (19.6.0-1) ...\n",
            "Setting up libportaudiocpp0:amd64 (19.6.0-1) ...\n",
            "Setting up portaudio19-dev:amd64 (19.6.0-1) ...\n",
            "Processing triggers for libc-bin (2.27-3ubuntu1.2) ...\n",
            "/sbin/ldconfig.real: /usr/local/lib/python3.7/dist-packages/ideep4py/lib/libmkldnn.so.0 is not a symbolic link\n",
            "\n",
            "Collecting PyAudio\n",
            "  Downloading https://files.pythonhosted.org/packages/ab/42/b4f04721c5c5bfc196ce156b3c768998ef8c0ae3654ed29ea5020c749a6b/PyAudio-0.2.11.tar.gz\n",
            "Building wheels for collected packages: PyAudio\n",
            "  Building wheel for PyAudio (setup.py) ... \u001b[?25l\u001b[?25hdone\n",
            "  Created wheel for PyAudio: filename=PyAudio-0.2.11-cp37-cp37m-linux_x86_64.whl size=52571 sha256=94cd76d1c191f440e517bd16759ba389cd0b1a3920f8c95458dcc3af31dc19c2\n",
            "  Stored in directory: /root/.cache/pip/wheels/f4/a8/a4/292214166c2917890f85b2f72a8e5f13e1ffa527c4200dcede\n",
            "Successfully built PyAudio\n",
            "Installing collected packages: PyAudio\n",
            "Successfully installed PyAudio-0.2.11\n"
          ],
          "name": "stdout"
        }
      ]
    },
    {
      "cell_type": "code",
      "metadata": {
        "colab": {
          "base_uri": "https://localhost:8080/"
        },
        "id": "KHsQ5M9tVexh",
        "outputId": "206696e3-fbf7-4dd7-a54f-7b5f3d374a20"
      },
      "source": [
        "#!pip install pyaudio"
      ],
      "execution_count": null,
      "outputs": [
        {
          "output_type": "stream",
          "text": [
            "Collecting pyaudio\n",
            "  Downloading https://files.pythonhosted.org/packages/ab/42/b4f04721c5c5bfc196ce156b3c768998ef8c0ae3654ed29ea5020c749a6b/PyAudio-0.2.11.tar.gz\n",
            "Building wheels for collected packages: pyaudio\n",
            "  Building wheel for pyaudio (setup.py) ... \u001b[?25lerror\n",
            "\u001b[31m  ERROR: Failed building wheel for pyaudio\u001b[0m\n",
            "\u001b[?25h  Running setup.py clean for pyaudio\n",
            "Failed to build pyaudio\n",
            "Installing collected packages: pyaudio\n",
            "    Running setup.py install for pyaudio ... \u001b[?25l\u001b[?25herror\n",
            "\u001b[31mERROR: Command errored out with exit status 1: /usr/bin/python3 -u -c 'import sys, setuptools, tokenize; sys.argv[0] = '\"'\"'/tmp/pip-install-x7vhfzxs/pyaudio/setup.py'\"'\"'; __file__='\"'\"'/tmp/pip-install-x7vhfzxs/pyaudio/setup.py'\"'\"';f=getattr(tokenize, '\"'\"'open'\"'\"', open)(__file__);code=f.read().replace('\"'\"'\\r\\n'\"'\"', '\"'\"'\\n'\"'\"');f.close();exec(compile(code, __file__, '\"'\"'exec'\"'\"'))' install --record /tmp/pip-record-ahzz6ulc/install-record.txt --single-version-externally-managed --compile Check the logs for full command output.\u001b[0m\n"
          ],
          "name": "stdout"
        }
      ]
    },
    {
      "cell_type": "code",
      "metadata": {
        "colab": {
          "base_uri": "https://localhost:8080/"
        },
        "id": "GpAABqbGWyxz",
        "outputId": "e10a6fa7-7c7b-477e-8c8e-aa5165dfd8b4"
      },
      "source": [
        "!pip3 uninstall keras\n",
        "!pip3 install keras --upgrade"
      ],
      "execution_count": null,
      "outputs": [
        {
          "output_type": "stream",
          "text": [
            "Uninstalling Keras-2.4.3:\n",
            "  Would remove:\n",
            "    /usr/local/lib/python3.7/dist-packages/Keras-2.4.3.dist-info/*\n",
            "    /usr/local/lib/python3.7/dist-packages/docs/*\n",
            "    /usr/local/lib/python3.7/dist-packages/keras/*\n",
            "  Would not remove (might be manually added):\n",
            "    /usr/local/lib/python3.7/dist-packages/docs/md_autogen.py\n",
            "    /usr/local/lib/python3.7/dist-packages/docs/update_docs.py\n",
            "Proceed (y/n)? y\n",
            "  Successfully uninstalled Keras-2.4.3\n",
            "Collecting keras\n",
            "  Using cached https://files.pythonhosted.org/packages/44/e1/dc0757b20b56c980b5553c1b5c4c32d378c7055ab7bfa92006801ad359ab/Keras-2.4.3-py2.py3-none-any.whl\n",
            "Requirement already satisfied, skipping upgrade: pyyaml in /usr/local/lib/python3.7/dist-packages (from keras) (3.13)\n",
            "Requirement already satisfied, skipping upgrade: h5py in /usr/local/lib/python3.7/dist-packages (from keras) (2.10.0)\n",
            "Requirement already satisfied, skipping upgrade: numpy>=1.9.1 in /usr/local/lib/python3.7/dist-packages (from keras) (1.19.5)\n",
            "Requirement already satisfied, skipping upgrade: scipy>=0.14 in /usr/local/lib/python3.7/dist-packages (from keras) (1.4.1)\n",
            "Requirement already satisfied, skipping upgrade: six in /usr/local/lib/python3.7/dist-packages (from h5py->keras) (1.15.0)\n",
            "Installing collected packages: keras\n",
            "Successfully installed keras-2.4.3\n"
          ],
          "name": "stdout"
        }
      ]
    },
    {
      "cell_type": "code",
      "metadata": {
        "colab": {
          "base_uri": "https://localhost:8080/"
        },
        "id": "ENrCvlQsUcts",
        "outputId": "d1cb368f-fc1f-4e22-b5f5-b250806eb6c7"
      },
      "source": [
        "! python speakerDiarization.py"
      ],
      "execution_count": 7,
      "outputs": [
        {
          "output_type": "stream",
          "text": [
            "2021-05-25 17:28:59.555775: I tensorflow/stream_executor/platform/default/dso_loader.cc:53] Successfully opened dynamic library libcudart.so.11.0\n",
            "WARNING:tensorflow:From /usr/local/lib/python3.7/dist-packages/tensorflow/python/compat/v2_compat.py:96: disable_resource_variables (from tensorflow.python.ops.variable_scope) is deprecated and will be removed in a future version.\n",
            "Instructions for updating:\n",
            "non-resource variables are not supported in the long term\n",
            "2021-05-25 17:29:01.521480: I tensorflow/stream_executor/platform/default/dso_loader.cc:53] Successfully opened dynamic library libcuda.so.1\n",
            "2021-05-25 17:29:01.532502: E tensorflow/stream_executor/cuda/cuda_driver.cc:328] failed call to cuInit: CUDA_ERROR_NO_DEVICE: no CUDA-capable device is detected\n",
            "2021-05-25 17:29:01.532565: I tensorflow/stream_executor/cuda/cuda_diagnostics.cc:156] kernel driver does not appear to be running on this host (8cd243d30215): /proc/driver/nvidia/version does not exist\n",
            "WARNING:tensorflow:From /usr/local/lib/python3.7/dist-packages/keras/layers/normalization.py:524: _colocate_with (from tensorflow.python.framework.ops) is deprecated and will be removed in a future version.\n",
            "Instructions for updating:\n",
            "Colocations handled automatically by placer.\n",
            "2021-05-25 17:29:04.156917: I tensorflow/core/platform/profile_utils/cpu_utils.cc:114] CPU Frequency: 2249995000 Hz\n",
            "/usr/local/lib/python3.7/dist-packages/keras/engine/training.py:2401: UserWarning: `Model.state_updates` will be removed in a future version. This property should not be used in TensorFlow 2.0, as `updates` are applied automatically.\n",
            "  warnings.warn('`Model.state_updates` will be removed in a future version. '\n",
            "========= 0 =========\n",
            "0:00.0 ==> 0:06.667\n",
            "0:15.333 ==> 0:16.0\n",
            "0:34.667 ==> 0:41.333\n",
            "========= 1 =========\n",
            "0:06.667 ==> 0:11.333\n",
            "0:16.0 ==> 0:18.667\n",
            "0:28.0 ==> 0:34.667\n",
            "========= 2 =========\n",
            "0:11.333 ==> 0:15.333\n",
            "0:18.667 ==> 0:28.0\n"
          ],
          "name": "stdout"
        }
      ]
    },
    {
      "cell_type": "code",
      "metadata": {
        "colab": {
          "base_uri": "https://localhost:8080/"
        },
        "id": "7q6thk-MYvmH",
        "outputId": "828d1302-41c6-4de7-92ed-84db5a341770"
      },
      "source": [
        "!python speakerDiarization.py"
      ],
      "execution_count": null,
      "outputs": [
        {
          "output_type": "stream",
          "text": [
            "2021-05-25 16:43:21.553250: I tensorflow/stream_executor/platform/default/dso_loader.cc:49] Successfully opened dynamic library libcudart.so.11.0\n",
            "WARNING:tensorflow:From /usr/local/lib/python3.7/dist-packages/tensorflow/python/compat/v2_compat.py:96: disable_resource_variables (from tensorflow.python.ops.variable_scope) is deprecated and will be removed in a future version.\n",
            "Instructions for updating:\n",
            "non-resource variables are not supported in the long term\n",
            "2021-05-25 16:43:23.846257: I tensorflow/compiler/jit/xla_gpu_device.cc:99] Not creating XLA devices, tf_xla_enable_xla_devices not set\n",
            "2021-05-25 16:43:23.847226: I tensorflow/stream_executor/platform/default/dso_loader.cc:49] Successfully opened dynamic library libcuda.so.1\n",
            "2021-05-25 16:43:23.858662: E tensorflow/stream_executor/cuda/cuda_driver.cc:328] failed call to cuInit: CUDA_ERROR_NO_DEVICE: no CUDA-capable device is detected\n",
            "2021-05-25 16:43:23.858721: I tensorflow/stream_executor/cuda/cuda_diagnostics.cc:156] kernel driver does not appear to be running on this host (6bd1f97b258c): /proc/driver/nvidia/version does not exist\n",
            "2021-05-25 16:43:26.778367: I tensorflow/compiler/jit/xla_cpu_device.cc:41] Not creating XLA devices, tf_xla_enable_xla_devices not set\n",
            "2021-05-25 16:43:26.778692: I tensorflow/compiler/jit/xla_gpu_device.cc:99] Not creating XLA devices, tf_xla_enable_xla_devices not set\n",
            "2021-05-25 16:43:26.892366: I tensorflow/compiler/mlir/mlir_graph_optimization_pass.cc:196] None of the MLIR optimization passes are enabled (registered 0 passes)\n",
            "2021-05-25 16:43:26.928060: I tensorflow/core/platform/profile_utils/cpu_utils.cc:112] CPU Frequency: 2199995000 Hz\n",
            "/usr/local/lib/python3.7/dist-packages/tensorflow/python/keras/engine/training.py:2325: UserWarning: `Model.state_updates` will be removed in a future version. This property should not be used in TensorFlow 2.0, as `updates` are applied automatically.\n",
            "  warnings.warn('`Model.state_updates` will be removed in a future version. '\n",
            "========= 0 =========\n",
            "0:00.0 ==> 0:06.667\n",
            "0:15.333 ==> 0:16.0\n",
            "0:34.667 ==> 0:41.333\n",
            "========= 1 =========\n",
            "0:06.667 ==> 0:11.333\n",
            "0:16.0 ==> 0:18.667\n",
            "0:28.0 ==> 0:34.667\n",
            "========= 2 =========\n",
            "0:11.333 ==> 0:15.333\n",
            "0:18.667 ==> 0:28.0\n"
          ],
          "name": "stdout"
        }
      ]
    },
    {
      "cell_type": "code",
      "metadata": {
        "colab": {
          "base_uri": "https://localhost:8080/"
        },
        "id": "KDvOdEmQaz1N",
        "outputId": "43668bb1-0a6d-4b15-d948-20ea286e784b"
      },
      "source": [
        "!pip install auditok\n"
      ],
      "execution_count": null,
      "outputs": [
        {
          "output_type": "stream",
          "text": [
            "Collecting auditok\n",
            "\u001b[?25l  Downloading https://files.pythonhosted.org/packages/49/3a/8b5579063cfb7ae3e89d40d495f4eff6e9cdefa14096ec0654d6aac52617/auditok-0.2.0-py3-none-any.whl (1.5MB)\n",
            "\r\u001b[K     |▏                               | 10kB 14.3MB/s eta 0:00:01\r\u001b[K     |▍                               | 20kB 20.4MB/s eta 0:00:01\r\u001b[K     |▋                               | 30kB 25.5MB/s eta 0:00:01\r\u001b[K     |▉                               | 40kB 25.4MB/s eta 0:00:01\r\u001b[K     |█                               | 51kB 24.5MB/s eta 0:00:01\r\u001b[K     |█▎                              | 61kB 25.8MB/s eta 0:00:01\r\u001b[K     |█▌                              | 71kB 22.5MB/s eta 0:00:01\r\u001b[K     |█▊                              | 81kB 23.2MB/s eta 0:00:01\r\u001b[K     |██                              | 92kB 20.8MB/s eta 0:00:01\r\u001b[K     |██▏                             | 102kB 22.0MB/s eta 0:00:01\r\u001b[K     |██▍                             | 112kB 22.0MB/s eta 0:00:01\r\u001b[K     |██▋                             | 122kB 22.0MB/s eta 0:00:01\r\u001b[K     |██▉                             | 133kB 22.0MB/s eta 0:00:01\r\u001b[K     |███                             | 143kB 22.0MB/s eta 0:00:01\r\u001b[K     |███▎                            | 153kB 22.0MB/s eta 0:00:01\r\u001b[K     |███▌                            | 163kB 22.0MB/s eta 0:00:01\r\u001b[K     |███▊                            | 174kB 22.0MB/s eta 0:00:01\r\u001b[K     |████                            | 184kB 22.0MB/s eta 0:00:01\r\u001b[K     |████▏                           | 194kB 22.0MB/s eta 0:00:01\r\u001b[K     |████▍                           | 204kB 22.0MB/s eta 0:00:01\r\u001b[K     |████▋                           | 215kB 22.0MB/s eta 0:00:01\r\u001b[K     |████▉                           | 225kB 22.0MB/s eta 0:00:01\r\u001b[K     |█████                           | 235kB 22.0MB/s eta 0:00:01\r\u001b[K     |█████▎                          | 245kB 22.0MB/s eta 0:00:01\r\u001b[K     |█████▌                          | 256kB 22.0MB/s eta 0:00:01\r\u001b[K     |█████▊                          | 266kB 22.0MB/s eta 0:00:01\r\u001b[K     |██████                          | 276kB 22.0MB/s eta 0:00:01\r\u001b[K     |██████▏                         | 286kB 22.0MB/s eta 0:00:01\r\u001b[K     |██████▍                         | 296kB 22.0MB/s eta 0:00:01\r\u001b[K     |██████▋                         | 307kB 22.0MB/s eta 0:00:01\r\u001b[K     |██████▉                         | 317kB 22.0MB/s eta 0:00:01\r\u001b[K     |███████                         | 327kB 22.0MB/s eta 0:00:01\r\u001b[K     |███████▎                        | 337kB 22.0MB/s eta 0:00:01\r\u001b[K     |███████▌                        | 348kB 22.0MB/s eta 0:00:01\r\u001b[K     |███████▊                        | 358kB 22.0MB/s eta 0:00:01\r\u001b[K     |████████                        | 368kB 22.0MB/s eta 0:00:01\r\u001b[K     |████████▏                       | 378kB 22.0MB/s eta 0:00:01\r\u001b[K     |████████▍                       | 389kB 22.0MB/s eta 0:00:01\r\u001b[K     |████████▋                       | 399kB 22.0MB/s eta 0:00:01\r\u001b[K     |████████▉                       | 409kB 22.0MB/s eta 0:00:01\r\u001b[K     |█████████                       | 419kB 22.0MB/s eta 0:00:01\r\u001b[K     |█████████▎                      | 430kB 22.0MB/s eta 0:00:01\r\u001b[K     |█████████▌                      | 440kB 22.0MB/s eta 0:00:01\r\u001b[K     |█████████▋                      | 450kB 22.0MB/s eta 0:00:01\r\u001b[K     |█████████▉                      | 460kB 22.0MB/s eta 0:00:01\r\u001b[K     |██████████                      | 471kB 22.0MB/s eta 0:00:01\r\u001b[K     |██████████▎                     | 481kB 22.0MB/s eta 0:00:01\r\u001b[K     |██████████▌                     | 491kB 22.0MB/s eta 0:00:01\r\u001b[K     |██████████▊                     | 501kB 22.0MB/s eta 0:00:01\r\u001b[K     |███████████                     | 512kB 22.0MB/s eta 0:00:01\r\u001b[K     |███████████▏                    | 522kB 22.0MB/s eta 0:00:01\r\u001b[K     |███████████▍                    | 532kB 22.0MB/s eta 0:00:01\r\u001b[K     |███████████▋                    | 542kB 22.0MB/s eta 0:00:01\r\u001b[K     |███████████▉                    | 552kB 22.0MB/s eta 0:00:01\r\u001b[K     |████████████                    | 563kB 22.0MB/s eta 0:00:01\r\u001b[K     |████████████▎                   | 573kB 22.0MB/s eta 0:00:01\r\u001b[K     |████████████▌                   | 583kB 22.0MB/s eta 0:00:01\r\u001b[K     |████████████▊                   | 593kB 22.0MB/s eta 0:00:01\r\u001b[K     |█████████████                   | 604kB 22.0MB/s eta 0:00:01\r\u001b[K     |█████████████▏                  | 614kB 22.0MB/s eta 0:00:01\r\u001b[K     |█████████████▍                  | 624kB 22.0MB/s eta 0:00:01\r\u001b[K     |█████████████▋                  | 634kB 22.0MB/s eta 0:00:01\r\u001b[K     |█████████████▉                  | 645kB 22.0MB/s eta 0:00:01\r\u001b[K     |██████████████                  | 655kB 22.0MB/s eta 0:00:01\r\u001b[K     |██████████████▎                 | 665kB 22.0MB/s eta 0:00:01\r\u001b[K     |██████████████▌                 | 675kB 22.0MB/s eta 0:00:01\r\u001b[K     |██████████████▊                 | 686kB 22.0MB/s eta 0:00:01\r\u001b[K     |███████████████                 | 696kB 22.0MB/s eta 0:00:01\r\u001b[K     |███████████████▏                | 706kB 22.0MB/s eta 0:00:01\r\u001b[K     |███████████████▍                | 716kB 22.0MB/s eta 0:00:01\r\u001b[K     |███████████████▋                | 727kB 22.0MB/s eta 0:00:01\r\u001b[K     |███████████████▉                | 737kB 22.0MB/s eta 0:00:01\r\u001b[K     |████████████████                | 747kB 22.0MB/s eta 0:00:01\r\u001b[K     |████████████████▎               | 757kB 22.0MB/s eta 0:00:01\r\u001b[K     |████████████████▌               | 768kB 22.0MB/s eta 0:00:01\r\u001b[K     |████████████████▊               | 778kB 22.0MB/s eta 0:00:01\r\u001b[K     |█████████████████               | 788kB 22.0MB/s eta 0:00:01\r\u001b[K     |█████████████████▏              | 798kB 22.0MB/s eta 0:00:01\r\u001b[K     |█████████████████▍              | 808kB 22.0MB/s eta 0:00:01\r\u001b[K     |█████████████████▋              | 819kB 22.0MB/s eta 0:00:01\r\u001b[K     |█████████████████▉              | 829kB 22.0MB/s eta 0:00:01\r\u001b[K     |██████████████████              | 839kB 22.0MB/s eta 0:00:01\r\u001b[K     |██████████████████▎             | 849kB 22.0MB/s eta 0:00:01\r\u001b[K     |██████████████████▌             | 860kB 22.0MB/s eta 0:00:01\r\u001b[K     |██████████████████▊             | 870kB 22.0MB/s eta 0:00:01\r\u001b[K     |███████████████████             | 880kB 22.0MB/s eta 0:00:01\r\u001b[K     |███████████████████▏            | 890kB 22.0MB/s eta 0:00:01\r\u001b[K     |███████████████████▎            | 901kB 22.0MB/s eta 0:00:01\r\u001b[K     |███████████████████▌            | 911kB 22.0MB/s eta 0:00:01\r\u001b[K     |███████████████████▊            | 921kB 22.0MB/s eta 0:00:01\r\u001b[K     |████████████████████            | 931kB 22.0MB/s eta 0:00:01\r\u001b[K     |████████████████████▏           | 942kB 22.0MB/s eta 0:00:01\r\u001b[K     |████████████████████▍           | 952kB 22.0MB/s eta 0:00:01\r\u001b[K     |████████████████████▋           | 962kB 22.0MB/s eta 0:00:01\r\u001b[K     |████████████████████▉           | 972kB 22.0MB/s eta 0:00:01\r\u001b[K     |█████████████████████           | 983kB 22.0MB/s eta 0:00:01\r\u001b[K     |█████████████████████▎          | 993kB 22.0MB/s eta 0:00:01\r\u001b[K     |█████████████████████▌          | 1.0MB 22.0MB/s eta 0:00:01\r\u001b[K     |█████████████████████▊          | 1.0MB 22.0MB/s eta 0:00:01\r\u001b[K     |██████████████████████          | 1.0MB 22.0MB/s eta 0:00:01\r\u001b[K     |██████████████████████▏         | 1.0MB 22.0MB/s eta 0:00:01\r\u001b[K     |██████████████████████▍         | 1.0MB 22.0MB/s eta 0:00:01\r\u001b[K     |██████████████████████▋         | 1.1MB 22.0MB/s eta 0:00:01\r\u001b[K     |██████████████████████▉         | 1.1MB 22.0MB/s eta 0:00:01\r\u001b[K     |███████████████████████         | 1.1MB 22.0MB/s eta 0:00:01\r\u001b[K     |███████████████████████▎        | 1.1MB 22.0MB/s eta 0:00:01\r\u001b[K     |███████████████████████▌        | 1.1MB 22.0MB/s eta 0:00:01\r\u001b[K     |███████████████████████▊        | 1.1MB 22.0MB/s eta 0:00:01\r\u001b[K     |████████████████████████        | 1.1MB 22.0MB/s eta 0:00:01\r\u001b[K     |████████████████████████▏       | 1.1MB 22.0MB/s eta 0:00:01\r\u001b[K     |████████████████████████▍       | 1.1MB 22.0MB/s eta 0:00:01\r\u001b[K     |████████████████████████▋       | 1.1MB 22.0MB/s eta 0:00:01\r\u001b[K     |████████████████████████▉       | 1.2MB 22.0MB/s eta 0:00:01\r\u001b[K     |█████████████████████████       | 1.2MB 22.0MB/s eta 0:00:01\r\u001b[K     |█████████████████████████▎      | 1.2MB 22.0MB/s eta 0:00:01\r\u001b[K     |█████████████████████████▌      | 1.2MB 22.0MB/s eta 0:00:01\r\u001b[K     |█████████████████████████▊      | 1.2MB 22.0MB/s eta 0:00:01\r\u001b[K     |██████████████████████████      | 1.2MB 22.0MB/s eta 0:00:01\r\u001b[K     |██████████████████████████▏     | 1.2MB 22.0MB/s eta 0:00:01\r\u001b[K     |██████████████████████████▍     | 1.2MB 22.0MB/s eta 0:00:01\r\u001b[K     |██████████████████████████▋     | 1.2MB 22.0MB/s eta 0:00:01\r\u001b[K     |██████████████████████████▉     | 1.2MB 22.0MB/s eta 0:00:01\r\u001b[K     |███████████████████████████     | 1.3MB 22.0MB/s eta 0:00:01\r\u001b[K     |███████████████████████████▎    | 1.3MB 22.0MB/s eta 0:00:01\r\u001b[K     |███████████████████████████▌    | 1.3MB 22.0MB/s eta 0:00:01\r\u001b[K     |███████████████████████████▊    | 1.3MB 22.0MB/s eta 0:00:01\r\u001b[K     |████████████████████████████    | 1.3MB 22.0MB/s eta 0:00:01\r\u001b[K     |████████████████████████████▏   | 1.3MB 22.0MB/s eta 0:00:01\r\u001b[K     |████████████████████████████▍   | 1.3MB 22.0MB/s eta 0:00:01\r\u001b[K     |████████████████████████████▋   | 1.3MB 22.0MB/s eta 0:00:01\r\u001b[K     |████████████████████████████▊   | 1.3MB 22.0MB/s eta 0:00:01\r\u001b[K     |█████████████████████████████   | 1.4MB 22.0MB/s eta 0:00:01\r\u001b[K     |█████████████████████████████▏  | 1.4MB 22.0MB/s eta 0:00:01\r\u001b[K     |█████████████████████████████▍  | 1.4MB 22.0MB/s eta 0:00:01\r\u001b[K     |█████████████████████████████▋  | 1.4MB 22.0MB/s eta 0:00:01\r\u001b[K     |█████████████████████████████▉  | 1.4MB 22.0MB/s eta 0:00:01\r\u001b[K     |██████████████████████████████  | 1.4MB 22.0MB/s eta 0:00:01\r\u001b[K     |██████████████████████████████▎ | 1.4MB 22.0MB/s eta 0:00:01\r\u001b[K     |██████████████████████████████▌ | 1.4MB 22.0MB/s eta 0:00:01\r\u001b[K     |██████████████████████████████▊ | 1.4MB 22.0MB/s eta 0:00:01\r\u001b[K     |███████████████████████████████ | 1.4MB 22.0MB/s eta 0:00:01\r\u001b[K     |███████████████████████████████▏| 1.5MB 22.0MB/s eta 0:00:01\r\u001b[K     |███████████████████████████████▍| 1.5MB 22.0MB/s eta 0:00:01\r\u001b[K     |███████████████████████████████▋| 1.5MB 22.0MB/s eta 0:00:01\r\u001b[K     |███████████████████████████████▉| 1.5MB 22.0MB/s eta 0:00:01\r\u001b[K     |████████████████████████████████| 1.5MB 22.0MB/s \n",
            "\u001b[?25hInstalling collected packages: auditok\n",
            "Successfully installed auditok-0.2.0\n"
          ],
          "name": "stdout"
        }
      ]
    },
    {
      "cell_type": "code",
      "metadata": {
        "colab": {
          "base_uri": "https://localhost:8080/",
          "height": 547
        },
        "id": "377LVNctaLwB",
        "outputId": "21af080d-06d8-49fa-cf00-8bbc1fe883d5"
      },
      "source": [
        "import auditok\n",
        "region = auditok.load(\"/content/Speaker_Diarization/test_wavs/UK.wav\") # returns an AudioRegion object\n",
        "regions = region.splitp()"
      ],
      "execution_count": null,
      "outputs": [
        {
          "output_type": "display_data",
          "data": {
            "image/png": "[encoded data removed]",
            "text/plain": [
              "<Figure size 720x480 with 1 Axes>"
            ]
          },
          "metadata": {
            "tags": [],
            "needs_background": "light"
          }
        }
      ]
    },
    {
      "cell_type": "code",
      "metadata": {
        "id": "XM7xVCWxa7e2",
        "colab": {
          "base_uri": "https://localhost:8080/",
          "height": 35
        },
        "outputId": "efe1884c-c9bd-46e6-b42b-ea1a9ec22b68"
      },
      "source": [
        "import numpy as np\n",
        "np.__version__"
      ],
      "execution_count": 8,
      "outputs": [
        {
          "output_type": "execute_result",
          "data": {
            "application/vnd.google.colaboratory.intrinsic+json": {
              "type": "string"
            },
            "text/plain": [
              "'1.19.5'"
            ]
          },
          "metadata": {
            "tags": []
          },
          "execution_count": 8
        }
      ]
    },
    {
      "cell_type": "code",
      "metadata": {
        "colab": {
          "base_uri": "https://localhost:8080/",
          "height": 35
        },
        "id": "L7HBdnrak4Qa",
        "outputId": "2681f7d1-4c46-4b31-d8cf-22b4b019b8ef"
      },
      "source": [
        "tf.__version__"
      ],
      "execution_count": 9,
      "outputs": [
        {
          "output_type": "execute_result",
          "data": {
            "application/vnd.google.colaboratory.intrinsic+json": {
              "type": "string"
            },
            "text/plain": [
              "'2.5.0'"
            ]
          },
          "metadata": {
            "tags": []
          },
          "execution_count": 9
        }
      ]
    },
    {
      "cell_type": "code",
      "metadata": {
        "id": "U2udHqmrk6_Z"
      },
      "source": [
        "import h5py"
      ],
      "execution_count": 10,
      "outputs": []
    },
    {
      "cell_type": "code",
      "metadata": {
        "colab": {
          "base_uri": "https://localhost:8080/",
          "height": 35
        },
        "id": "yqm6XgYNloRr",
        "outputId": "a015df1f-3d0c-4cec-bc45-dc7e03ba189f"
      },
      "source": [
        "h5py.__version__"
      ],
      "execution_count": 12,
      "outputs": [
        {
          "output_type": "execute_result",
          "data": {
            "application/vnd.google.colaboratory.intrinsic+json": {
              "type": "string"
            },
            "text/plain": [
              "'3.1.0'"
            ]
          },
          "metadata": {
            "tags": []
          },
          "execution_count": 12
        }
      ]
    },
    {
      "cell_type": "code",
      "metadata": {
        "id": "Z4DxcymYltQO"
      },
      "source": [
        "import typing_extensions"
      ],
      "execution_count": 13,
      "outputs": []
    },
    {
      "cell_type": "code",
      "metadata": {
        "colab": {
          "base_uri": "https://localhost:8080/",
          "height": 163
        },
        "id": "0wqC1IXgmAy1",
        "outputId": "bbaa87f2-ae82-4d5b-a3e9-27ce7213732e"
      },
      "source": [
        ""
      ],
      "execution_count": 14,
      "outputs": [
        {
          "output_type": "error",
          "ename": "AttributeError",
          "evalue": "ignored",
          "traceback": [
            "\u001b[0;31m---------------------------------------------------------------------------\u001b[0m",
            "\u001b[0;31mAttributeError\u001b[0m                            Traceback (most recent call last)",
            "\u001b[0;32m<ipython-input-14-eae3ad7285d4>\u001b[0m in \u001b[0;36m<module>\u001b[0;34m()\u001b[0m\n\u001b[0;32m----> 1\u001b[0;31m \u001b[0mtyping_extensions\u001b[0m\u001b[0;34m.\u001b[0m\u001b[0m__version__\u001b[0m\u001b[0;34m\u001b[0m\u001b[0;34m\u001b[0m\u001b[0m\n\u001b[0m",
            "\u001b[0;31mAttributeError\u001b[0m: module 'typing_extensions' has no attribute '__version__'"
          ]
        }
      ]
    },
    {
      "cell_type": "code",
      "metadata": {
        "id": "tjg14ND3mC_W"
      },
      "source": [
        ""
      ],
      "execution_count": null,
      "outputs": []
    }
  ]
}